{
  "nbformat": 4,
  "nbformat_minor": 0,
  "metadata": {
    "colab": {
      "name": "Convolutional Neural Network.ipynb",
      "provenance": [],
      "authorship_tag": "ABX9TyMOPbbG2OWSGhsxcdnyJPid",
      "include_colab_link": true
    },
    "kernelspec": {
      "name": "python3",
      "display_name": "Python 3"
    }
  },
  "cells": [
    {
      "cell_type": "markdown",
      "metadata": {
        "id": "view-in-github",
        "colab_type": "text"
      },
      "source": [
        "<a href=\"https://colab.research.google.com/github/foroughkarandish/Chest-X-Ray-Images-Pneumonia-/blob/master/Convolutional_Neural_Network.ipynb\" target=\"_parent\"><img src=\"https://colab.research.google.com/assets/colab-badge.svg\" alt=\"Open In Colab\"/></a>"
      ]
    },
    {
      "cell_type": "markdown",
      "metadata": {
        "id": "4OD9aCMb8FSA",
        "colab_type": "text"
      },
      "source": [
        "This project is not started yet and I am thinking about the best way to explain and implement it. Stay tuned for updates!!!"
      ]
    },
    {
      "cell_type": "markdown",
      "metadata": {
        "id": "qaaCS_M17CYC",
        "colab_type": "text"
      },
      "source": [
        "In this project I will explain CNN and use them to build an image classifier."
      ]
    },
    {
      "cell_type": "markdown",
      "metadata": {
        "id": "mJGQhqP1ZHwY",
        "colab_type": "text"
      },
      "source": [
        "1. [Introduction](#1)<br>\n",
        "2. [Load Packages](#2)<br>\n",
        "    A. [Import](#21)<br>\n",
        "    B. [Setup](#22)<br>\n",
        "    C. [Version](#23)<br>\n",
        "3. [Problem Definition](#3)<br>\n",
        "    A. [Aim](#31)<br>\n",
        "    B. [Variables](#32)<br>\n",
        "4. [CNN Architecture](#4) </b><br>\n",
        "    A. [Convolution Layer](#41)<br>\n",
        "    B. [Padding](#42)<br>\n",
        "    C. [Stride](#43)<br>\n",
        "    D. [Pooling Layer](#44)<br>\n",
        "    E. [Fully Connected Layer](#45)<br>    \n",
        "5. [Model developement](#5)<br>\n",
        "    A. [Keras](#51)<br>   \n",
        "6. [References](#6)<br>"
      ]
    },
    {
      "cell_type": "code",
      "metadata": {
        "id": "xDY728aCZI1m",
        "colab_type": "code",
        "colab": {}
      },
      "source": [
        ""
      ],
      "execution_count": null,
      "outputs": []
    }
  ]
}