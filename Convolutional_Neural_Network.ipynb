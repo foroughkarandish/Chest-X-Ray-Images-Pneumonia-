{
  "nbformat": 4,
  "nbformat_minor": 0,
  "metadata": {
    "colab": {
      "name": "Convolutional Neural Network.ipynb",
      "provenance": [],
      "authorship_tag": "ABX9TyPkyy8vPDwM7mk7vHiUZpaK",
      "include_colab_link": true
    },
    "kernelspec": {
      "name": "python3",
      "display_name": "Python 3"
    }
  },
  "cells": [
    {
      "cell_type": "markdown",
      "metadata": {
        "id": "view-in-github",
        "colab_type": "text"
      },
      "source": [
        "<a href=\"https://colab.research.google.com/github/foroughkarandish/Convolutional-Neural-Network-Architecture/blob/master/Convolutional_Neural_Network.ipynb\" target=\"_parent\"><img src=\"https://colab.research.google.com/assets/colab-badge.svg\" alt=\"Open In Colab\"/></a>"
      ]
    },
    {
      "cell_type": "markdown",
      "metadata": {
        "id": "4OD9aCMb8FSA",
        "colab_type": "text"
      },
      "source": [
        "This project is not started yet and I am thinking about the best way to explain and implement it. Stay tuned for updates!!!"
      ]
    },
    {
      "cell_type": "markdown",
      "metadata": {
        "id": "qaaCS_M17CYC",
        "colab_type": "text"
      },
      "source": [
        "In this project I will explain CNN and use them to build an image classifier."
      ]
    },
    {
      "cell_type": "markdown",
      "metadata": {
        "id": "saU-9akIbKCm",
        "colab_type": "text"
      },
      "source": [
        "**Table of Contents**"
      ]
    },
    {
      "cell_type": "markdown",
      "metadata": {
        "id": "mJGQhqP1ZHwY",
        "colab_type": "text"
      },
      "source": [
        "1. [Introduction](#1)<br>\n",
        "2. [Load Packages](#2)<br>\n",
        "    A. [Import](#21)<br>\n",
        "    B. [Setup](#22)<br>\n",
        "    C. [Version](#23)<br>\n",
        "3. [CNN Architecture](#43)<br>\n",
        "  A. [Convolutional Layers](#31)<br>\n",
        "  B. [Edge detection example](#32)<br>\n",
        "  C. [Padding](#433)<br>\n",
        "  D. [Strided convolution](#34) <br>\n",
        "  E. [Convolutions over volumes](#35) <br>\n",
        "  F. [One Layer of a Convolutional Network](#36) <br>\n",
        "  G. [A simple convolution network example](#37) <br>\n",
        "  H. [Pooling layers](#38) <br>\n",
        "  I. [Convolutional neural network example](#39) <br> \n",
        "  J. [Why convolutions?](#399) <br>\n",
        "5. [Model developement](#5)<br>\n",
        "    A. [Keras](#51)<br>   \n",
        "6. [References](#6)<br>"
      ]
    },
    {
      "cell_type": "markdown",
      "metadata": {
        "id": "AbVCMQD_gtIJ",
        "colab_type": "text"
      },
      "source": [
        "<a id=\"1\"></a>\n",
        "## 1. References"
      ]
    },
    {
      "cell_type": "markdown",
      "metadata": {
        "id": "ZmKZflicgmUi",
        "colab_type": "text"
      },
      "source": [
        "In deep learning, a convolutional neural network (CNN, or ConvNet) is a class of deep neural networks, most commonly applied to analyzing visual imagery. They are also known as shift invariant or space invariant artificial neural networks (SIANN), based on their shared-weights architecture and translation invariance characteristics. They have applications in image and video recognition, recommender systems, image classification, medical image analysis, natural language processing, and financial time series.<br>\n",
        "\n",
        "\n",
        "Convolutional networks were inspired by biological processes in that the connectivity pattern between neurons resembles the organization of the animal visual cortex. Individual cortical neurons respond to stimuli only in a restricted region of the visual field known as the receptive field. The receptive fields of different neurons partially overlap such that they cover the entire visual field.<br>\n",
        "\n",
        "\n",
        "CNNs use relatively little pre-processing compared to other image classification algorithms. This means that the network learns the filters that in traditional algorithms were hand-engineered. This independence from prior knowledge and human effort in feature design is a major advantage [1].<br>"
      ]
    },
    {
      "cell_type": "markdown",
      "metadata": {
        "id": "yjZ-WcBQn5Kt",
        "colab_type": "text"
      },
      "source": [
        "<a id=\"2\"></a>\n",
        "### A. Load Packages"
      ]
    },
    {
      "cell_type": "code",
      "metadata": {
        "id": "khxqifsXnhIX",
        "colab_type": "code",
        "colab": {
          "base_uri": "https://localhost:8080/",
          "height": 72
        },
        "outputId": "b2d61f8f-ac9d-4a7e-c9a4-53ac0aa171fd"
      },
      "source": [
        "from sklearn import model_selection, preprocessing, metrics\n",
        "from sklearn.metrics import mean_squared_error\n",
        "from pandas.plotting import scatter_matrix\n",
        "from sklearn.preprocessing import MinMaxScaler, StandardScaler\n",
        "from sklearn.model_selection import train_test_split\n",
        "from sklearn.model_selection import StratifiedKFold\n",
        "from sklearn.impute import SimpleImputer\n",
        "from sklearn.preprocessing import OneHotEncoder\n",
        "import matplotlib.pyplot as plt\n",
        "from pandas import get_dummies\n",
        "import lightgbm as lgb\n",
        "import xgboost as xgb\n",
        "import seaborn as sns\n",
        "import pandas as pd\n",
        "import numpy as np\n",
        "import matplotlib\n",
        "import sklearn\n",
        "import warnings"
      ],
      "execution_count": 2,
      "outputs": [
        {
          "output_type": "stream",
          "text": [
            "/usr/local/lib/python3.6/dist-packages/statsmodels/tools/_testing.py:19: FutureWarning: pandas.util.testing is deprecated. Use the functions in the public API at pandas.testing instead.\n",
            "  import pandas.util.testing as tm\n"
          ],
          "name": "stderr"
        }
      ]
    },
    {
      "cell_type": "markdown",
      "metadata": {
        "id": "BTNrb9j-p9Wj",
        "colab_type": "text"
      },
      "source": [
        "<a id=\"22\"></a>\n",
        "### B. Setup"
      ]
    },
    {
      "cell_type": "markdown",
      "metadata": {
        "id": "Dc2IJLtmqSJX",
        "colab_type": "text"
      },
      "source": [
        "I'm setting up essential visualisation here."
      ]
    },
    {
      "cell_type": "code",
      "metadata": {
        "id": "_lxMQm-6qUC1",
        "colab_type": "code",
        "colab": {}
      },
      "source": [
        "%matplotlib inline\n",
        "%precision 4\n",
        "plt.style.use('ggplot')\n",
        "np.set_printoptions(suppress=True)\n",
        "pd.set_option(\"display.precision\", 15)\n",
        "\n",
        "#ignore warnings\n",
        "import warnings\n",
        "warnings.filterwarnings('ignore')\n",
        "\n",
        "# Graphics in retina format are more sharp and legible\n",
        "%config InlineBackend.figure_format = 'retina'"
      ],
      "execution_count": 3,
      "outputs": []
    },
    {
      "cell_type": "markdown",
      "metadata": {
        "id": "MXoGuI7-qY0l",
        "colab_type": "text"
      },
      "source": [
        "<a id=\"33\"></a>\n",
        "### C. Version"
      ]
    },
    {
      "cell_type": "markdown",
      "metadata": {
        "id": "EtFVrpxwql-d",
        "colab_type": "text"
      },
      "source": [
        "Checking the versions of my main libraries that I'm going to use in this project."
      ]
    },
    {
      "cell_type": "code",
      "metadata": {
        "id": "87NqTiARqk3E",
        "colab_type": "code",
        "colab": {
          "base_uri": "https://localhost:8080/",
          "height": 105
        },
        "outputId": "f5cfc3ed-1eb8-4051-af19-3a4ad5657ab9"
      },
      "source": [
        "print('matplotlib: {}'.format(matplotlib.__version__))\n",
        "print('sklearn: {}'.format(sklearn.__version__))\n",
        "print('seaborn: {}'.format(sns.__version__))\n",
        "print('pandas: {}'.format(pd.__version__))\n",
        "print('numpy: {}'.format(np.__version__))"
      ],
      "execution_count": 4,
      "outputs": [
        {
          "output_type": "stream",
          "text": [
            "matplotlib: 3.2.2\n",
            "sklearn: 0.22.2.post1\n",
            "seaborn: 0.10.1\n",
            "pandas: 1.0.5\n",
            "numpy: 1.18.5\n"
          ],
          "name": "stdout"
        }
      ]
    },
    {
      "cell_type": "markdown",
      "metadata": {
        "id": "RfKenL7psHCI",
        "colab_type": "text"
      },
      "source": [
        "<a id=\"3\"></a>\n",
        "## 3. CNN Architecture"
      ]
    },
    {
      "cell_type": "markdown",
      "metadata": {
        "id": "h0u-GutZsOrA",
        "colab_type": "text"
      },
      "source": [
        "A convolutional neural network consists of an input and an output layer, as well as multiple hidden layers. The hidden layers of a CNN typically consist of a series of convolutional layers that convolve with a multiplication or other dot product. The activation function is commonly a RELU layer, and is subsequently followed by additional convolutions such as pooling layers, fully connected layers and normalization layers, referred to as hidden layers because their inputs and outputs are masked by the activation function and final convolution.\n",
        "\n",
        "Though the layers are colloquially referred to as convolutions, this is only by convention. Mathematically, it is technically a sliding dot product or cross-correlation. This has significance for the indices in the matrix, in that it affects how weight is determined at a specific index point[1]."
      ]
    },
    {
      "cell_type": "markdown",
      "metadata": {
        "id": "PERSKHqkz2__",
        "colab_type": "text"
      },
      "source": [
        " <a id=\"31\"></a>\n",
        "### A. Convolutional Layers"
      ]
    },
    {
      "cell_type": "markdown",
      "metadata": {
        "id": "4GzAmwl-0BV-",
        "colab_type": "text"
      },
      "source": [
        ""
      ]
    },
    {
      "cell_type": "markdown",
      "metadata": {
        "id": "pCHSxqmTm3l0",
        "colab_type": "text"
      },
      "source": [
        "<a id=\"6\"></a>\n",
        "## 6. References"
      ]
    },
    {
      "cell_type": "markdown",
      "metadata": {
        "id": "eUSLAlYcm7Hm",
        "colab_type": "text"
      },
      "source": [
        "[1]. [wiki](https://en.wikipedia.org/wiki/Convolutional_neural_network)<br>\n",
        "[2]. "
      ]
    },
    {
      "cell_type": "code",
      "metadata": {
        "id": "WTMF6Ze9nMYH",
        "colab_type": "code",
        "colab": {}
      },
      "source": [
        ""
      ],
      "execution_count": null,
      "outputs": []
    }
  ]
}