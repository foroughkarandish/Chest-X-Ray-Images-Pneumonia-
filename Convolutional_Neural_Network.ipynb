{
  "nbformat": 4,
  "nbformat_minor": 0,
  "metadata": {
    "colab": {
      "name": "Convolutional Neural Network.ipynb",
      "provenance": [],
      "authorship_tag": "ABX9TyN8ZGMHRmddCLiBAUEKL50j",
      "include_colab_link": true
    },
    "kernelspec": {
      "name": "python3",
      "display_name": "Python 3"
    }
  },
  "cells": [
    {
      "cell_type": "markdown",
      "metadata": {
        "id": "view-in-github",
        "colab_type": "text"
      },
      "source": [
        "<a href=\"https://colab.research.google.com/github/foroughkarandish/Convolutional-Neural-Network-Architecture/blob/master/Convolutional_Neural_Network.ipynb\" target=\"_parent\"><img src=\"https://colab.research.google.com/assets/colab-badge.svg\" alt=\"Open In Colab\"/></a>"
      ]
    },
    {
      "cell_type": "code",
      "metadata": {
        "id": "au9_n6xOgpMU",
        "colab_type": "code",
        "colab": {}
      },
      "source": [
        ""
      ],
      "execution_count": null,
      "outputs": []
    },
    {
      "cell_type": "markdown",
      "metadata": {
        "id": "4OD9aCMb8FSA",
        "colab_type": "text"
      },
      "source": [
        "This project is not started yet and I am thinking about the best way to explain and implement it. Stay tuned for updates!!!"
      ]
    },
    {
      "cell_type": "markdown",
      "metadata": {
        "id": "qaaCS_M17CYC",
        "colab_type": "text"
      },
      "source": [
        "In this project I will explain CNN and use them to build an image classifier."
      ]
    },
    {
      "cell_type": "markdown",
      "metadata": {
        "id": "mJGQhqP1ZHwY",
        "colab_type": "text"
      },
      "source": [
        "1. [Introduction](#1)<br>\n",
        "2. [Load Packages](#2)<br>\n",
        "    A. [Import](#21)<br>\n",
        "    B. [Setup](#22)<br>\n",
        "    C. [Version](#23)<br>\n",
        "3. [Problem Definition](#3)<br>\n",
        "    A. [Aim](#31)<br>\n",
        "    B. [Variables](#32)<br>\n",
        "4. [CNN Architecture](#4)<br>\n",
        "  A. [Computer vision](#41)<br>\n",
        "  B. [Edge detection example](#42)<br>\n",
        "  C. [Padding](#43)<br>\n",
        "  D. [Strided convolution](#44) <br>\n",
        "  E. [Convolutions over volumes](#45) <br>\n",
        "  F. [One Layer of a Convolutional Network](#46) <br>\n",
        "  G. [A simple convolution network example](#47) <br>\n",
        "  H. [Pooling layers](#48) <br>\n",
        "  I. [Convolutional neural network example](#49) <br> \n",
        "  J. [Why convolutions?](#499) <br>\n",
        "5. [Model developement](#5)<br>\n",
        "    A. [Keras](#51)<br>   \n",
        "6. [References](#6)<br>"
      ]
    },
    {
      "cell_type": "markdown",
      "metadata": {
        "id": "AbVCMQD_gtIJ",
        "colab_type": "text"
      },
      "source": [
        "1. introduction"
      ]
    },
    {
      "cell_type": "markdown",
      "metadata": {
        "id": "ZmKZflicgmUi",
        "colab_type": "text"
      },
      "source": [
        "This course will teach you how to build convolutional neural networks and apply it to image data. "
      ]
    },
    {
      "cell_type": "code",
      "metadata": {
        "id": "7DVrD-ZDY_dz",
        "colab_type": "code",
        "colab": {}
      },
      "source": [
        ""
      ],
      "execution_count": null,
      "outputs": []
    }
  ]
}