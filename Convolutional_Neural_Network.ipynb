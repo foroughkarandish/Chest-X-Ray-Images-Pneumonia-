{
  "nbformat": 4,
  "nbformat_minor": 0,
  "metadata": {
    "colab": {
      "name": "Convolutional Neural Network.ipynb",
      "provenance": [],
      "authorship_tag": "ABX9TyPx+MnYAh39BMRwNjpDPTij",
      "include_colab_link": true
    },
    "kernelspec": {
      "name": "python3",
      "display_name": "Python 3"
    }
  },
  "cells": [
    {
      "cell_type": "markdown",
      "metadata": {
        "id": "view-in-github",
        "colab_type": "text"
      },
      "source": [
        "<a href=\"https://colab.research.google.com/github/foroughkarandish/Chest-X-Ray-Images-Pneumonia-/blob/master/Convolutional_Neural_Network.ipynb\" target=\"_parent\"><img src=\"https://colab.research.google.com/assets/colab-badge.svg\" alt=\"Open In Colab\"/></a>"
      ]
    },
    {
      "cell_type": "markdown",
      "metadata": {
        "id": "4OD9aCMb8FSA",
        "colab_type": "text"
      },
      "source": [
        "This project is not started yet and I am thinking about the best way to explain and implement it. Stay tuned for updates!!!"
      ]
    },
    {
      "cell_type": "markdown",
      "metadata": {
        "id": "qaaCS_M17CYC",
        "colab_type": "text"
      },
      "source": [
        "In this project I will explain CNN and use them to build an image classifier."
      ]
    }
  ]
}